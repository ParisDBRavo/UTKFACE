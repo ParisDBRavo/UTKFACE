{
  "nbformat": 4,
  "nbformat_minor": 0,
  "metadata": {
    "colab": {
      "provenance": [],
      "authorship_tag": "ABX9TyPLT6/eAAdE5e7hLyOqA0/N",
      "include_colab_link": true
    },
    "kernelspec": {
      "name": "python3",
      "display_name": "Python 3"
    },
    "language_info": {
      "name": "python"
    }
  },
  "cells": [
    {
      "cell_type": "markdown",
      "metadata": {
        "id": "view-in-github",
        "colab_type": "text"
      },
      "source": [
        "<a href=\"https://colab.research.google.com/github/ParisDBRavo/UTKFACE/blob/main/UTKFACE.ipynb\" target=\"_parent\"><img src=\"https://colab.research.google.com/assets/colab-badge.svg\" alt=\"Open In Colab\"/></a>"
      ]
    },
    {
      "cell_type": "markdown",
      "source": [
        "# Predicción de edades.\n",
        "En este trabajo se utilizará la arquitectura ResNet como guía para hacer una regresión para predecir los datos del conjunto UTKFace. Se sustituirán los bloques de tipo ResNet por bloques CoNext."
      ],
      "metadata": {
        "id": "ixLg-JWnkQ5Z"
      }
    },
    {
      "cell_type": "markdown",
      "source": [
        "## 1. Preparación"
      ],
      "metadata": {
        "id": "HaDdzNCKnkrx"
      }
    },
    {
      "cell_type": "markdown",
      "source": [
        "### 1.1 Librerias"
      ],
      "metadata": {
        "id": "HOYQm7gInnAN"
      }
    },
    {
      "cell_type": "code",
      "execution_count": 2,
      "metadata": {
        "colab": {
          "base_uri": "https://localhost:8080/"
        },
        "id": "3sWFcnfckQgc",
        "outputId": "82a1a3cc-7c41-4dad-c210-63b5ef2e2853"
      },
      "outputs": [
        {
          "output_type": "stream",
          "name": "stdout",
          "text": [
            "Looking in indexes: https://pypi.org/simple, https://us-python.pkg.dev/colab-wheels/public/simple/\n",
            "Collecting torch-summary\n",
            "  Downloading torch_summary-1.4.5-py3-none-any.whl (16 kB)\n",
            "Installing collected packages: torch-summary\n",
            "Successfully installed torch-summary-1.4.5\n",
            "Looking in indexes: https://pypi.org/simple, https://us-python.pkg.dev/colab-wheels/public/simple/\n",
            "Collecting torchinfo\n",
            "  Downloading torchinfo-1.7.1-py3-none-any.whl (22 kB)\n",
            "Installing collected packages: torchinfo\n",
            "Successfully installed torchinfo-1.7.1\n"
          ]
        }
      ],
      "source": [
        "# biblioteca para inspeccionar arquitecturas\n",
        "!pip install torch-summary\n",
        "# https://github.com/TylerYep/torchinfo\n",
        "!pip install torchinfo"
      ]
    },
    {
      "cell_type": "code",
      "source": [
        "# sistema de archivos\n",
        "import os\n",
        "# funciones aleatorias\n",
        "import random\n",
        "\n",
        "\n",
        "# arreglos multidimensionales\n",
        "import numpy as np\n",
        "# redes neuronales\n",
        "import torch\n",
        "import torch.nn as nn\n",
        "import torch.nn.functional as F\n",
        "import torch.optim as optim\n",
        "import torchvision.datasets.utils as tvu\n",
        "from torchvision import transforms\n",
        "#redes\n",
        "from torch.utils.data import DataLoader, random_split\n",
        "# inspección de arquitectura\n",
        "from torchinfo import summary\n",
        "import matplotlib.pyplot as plt\n",
        "\n",
        "# imágenes\n",
        "from skimage import io\n",
        "from skimage.transform import resize\n",
        "from PIL import Image\n",
        "from itertools import islice as take"
      ],
      "metadata": {
        "id": "p5Q45vr0njIc"
      },
      "execution_count": 4,
      "outputs": []
    },
    {
      "cell_type": "markdown",
      "source": [
        "### 1.2 Auxiliares\n",
        "\n",
        "Me basé en la libreta vista en clase para descargar este conjunto de UTKFaces. "
      ],
      "metadata": {
        "id": "OiVm1f7ip0lY"
      }
    },
    {
      "cell_type": "code",
      "source": [
        "# directorio de datos\n",
        "URL = 'https://cloud.xibalba.com.mx/s/QpJdJ5aLEDG9Ryb/download'\n",
        "base_dir = '../data/faces'\n",
        "filename = 'UTKFace.tar.gz'\n",
        "data_dir = '../data/faces/UTKFace'\n",
        "filepath = os.path.join(base_dir, filename)\n",
        "\n",
        "# tamaño del lote\n",
        "BATCH_SIZE = 32\n",
        "# filas y columnas de la rejilla de imágenes\n",
        "ROWS, COLS = 4, 8\n",
        "\n",
        "# tamaño del conjunto de entrenamiento (porcentaje)\n",
        "TRN_SIZE = 0.8\n",
        "NUM_WORKERS = 4 # hilos\n",
        "\n",
        "# media y varianza de ImageNet\n",
        "IMAGENET_MEAN = [0.485, 0.456, 0.406]\n",
        "IMAGENET_STD = [0.229, 0.224, 0.225]\n",
        "\n",
        "def crop_center(img, cropx, cropy):\n",
        "    y, x = img.shape[:2]\n",
        "    startx = x // 2 - cropx // 2\n",
        "    starty = y // 2 - cropy // 2    \n",
        "    return img[starty:starty+cropy, startx:startx+cropx]\n",
        "\n",
        "def display_grid(xs, titles, rows, cols, figsize=(12, 6)):\n",
        "  \"\"\"Displays examples in a grid.\"\"\"\n",
        "  fig, ax = plt.subplots(rows, cols, figsize=figsize)\n",
        "  i = 0\n",
        "  for r in range(rows):\n",
        "      for c in range(cols):\n",
        "          ax[r, c].imshow(xs[i], cmap='gray')\n",
        "          ax[r, c].set_title(titles[i])\n",
        "          ax[r, c].set_xticklabels([])\n",
        "          ax[r, c].set_yticklabels([])\n",
        "          i += 1\n",
        "  fig.tight_layout()\n",
        "  plt.show()\n",
        "\n",
        "def display_batch(x, titles, rows, cols, figsize=(12, 6)):\n",
        "  \"\"\"Despliega un lote en una cuadrícula.\"\"\"\n",
        "  # denormalizamos\n",
        "  for c, (mean, std) in enumerate(zip(IMAGENET_MEAN, IMAGENET_STD)):\n",
        "      x[:, c] = x[:, c] * std + mean \n",
        "  x *= 255\n",
        "  # rotamos canales\n",
        "  x = x.permute(0, 2, 3, 1)\n",
        "  # convertimos a entero\n",
        "  x = (x.numpy()).astype(np.uint8)\n",
        "  # desplegamos lote\n",
        "  display_grid(x, titles, rows, cols, figsize)\n",
        "\n",
        "def set_seed(seed=0):\n",
        "    \"\"\"Initializes pseudo-random number generators.\"\"\"\n",
        "    random.seed(seed)\n",
        "    np.random.seed(seed)\n",
        "    torch.manual_seed(seed)\n",
        "\n",
        "def display_losses(losses):\n",
        "  train_loss, test_loss = zip(*losses)\n",
        "  plt.plot(train_loss,label='Entrenamiento')\n",
        "  plt.plot(test_loss,label='Prueba')\n",
        "  plt.xlabel('Época')\n",
        "  plt.ylabel('Pérdida')\n",
        "  plt.legend()\n",
        "  plt.grid()\n",
        "  plt.show()\n",
        "\n",
        "def numpy_to_torch(x):\n",
        "    x = transforms.functional.to_tensor(x)\n",
        "    x = x.type(torch.float32)\n",
        "    return x\n",
        "\n",
        "# reproducibilidad\n",
        "set_seed()"
      ],
      "metadata": {
        "id": "v9qcqoCwp4vb"
      },
      "execution_count": 5,
      "outputs": []
    },
    {
      "cell_type": "markdown",
      "source": [
        "## 2. Datos"
      ],
      "metadata": {
        "id": "-kgBBTkkrTwn"
      }
    },
    {
      "cell_type": "markdown",
      "source": [
        "Aquí vamos a descargat UTKFace"
      ],
      "metadata": {
        "id": "y1SXAC51rawf"
      }
    },
    {
      "cell_type": "code",
      "source": [
        "! mkdir -p {base_dir}\n",
        "! wget -nc {URL} -O {filepath}\n",
        "! tar -zxf {filepath} -C {base_dir}"
      ],
      "metadata": {
        "colab": {
          "base_uri": "https://localhost:8080/"
        },
        "id": "78eBnOqYrZ8J",
        "outputId": "bdf2efb4-4876-4e58-cf16-86ee54278e18"
      },
      "execution_count": 6,
      "outputs": [
        {
          "output_type": "stream",
          "name": "stdout",
          "text": [
            "--2022-11-14 06:01:06--  https://cloud.xibalba.com.mx/s/QpJdJ5aLEDG9Ryb/download\n",
            "Resolving cloud.xibalba.com.mx (cloud.xibalba.com.mx)... 187.188.130.162\n",
            "Connecting to cloud.xibalba.com.mx (cloud.xibalba.com.mx)|187.188.130.162|:443... connected.\n",
            "HTTP request sent, awaiting response... 200 OK\n",
            "Length: 106634631 (102M) [application/x-gzip]\n",
            "Saving to: ‘../data/faces/UTKFace.tar.gz’\n",
            "\n",
            "../data/faces/UTKFa 100%[===================>] 101.69M  6.11MB/s    in 17s     \n",
            "\n",
            "2022-11-14 06:01:24 (5.92 MB/s) - ‘../data/faces/UTKFace.tar.gz’ saved [106634631/106634631]\n",
            "\n"
          ]
        }
      ]
    }
  ]
}